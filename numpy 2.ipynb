{
 "cells": [
  {
   "cell_type": "code",
   "execution_count": 1,
   "id": "e1f09fa9",
   "metadata": {},
   "outputs": [],
   "source": [
    "import numpy as np\n"
   ]
  },
  {
   "cell_type": "code",
   "execution_count": 2,
   "id": "8e48c5f8",
   "metadata": {},
   "outputs": [
    {
     "name": "stdout",
     "output_type": "stream",
     "text": [
      "[9 5 7]\n"
     ]
    }
   ],
   "source": [
    "c= np.array([9,5,7])\n",
    "print(c)"
   ]
  },
  {
   "cell_type": "code",
   "execution_count": 3,
   "id": "67930b92",
   "metadata": {},
   "outputs": [
    {
     "name": "stdout",
     "output_type": "stream",
     "text": [
      "[[4 7 0]\n",
      " [2 4 7]\n",
      " [1 5 9]]\n"
     ]
    }
   ],
   "source": [
    "d=np.array([(4,7,0),(2,4,7),(1,5,9)])\n",
    "print(d)"
   ]
  },
  {
   "cell_type": "code",
   "execution_count": 4,
   "id": "26957427",
   "metadata": {},
   "outputs": [
    {
     "name": "stdout",
     "output_type": "stream",
     "text": [
      "[[4 7 0]\n",
      " [2 4 7]\n",
      " [1 5 9]]\n",
      "2\n"
     ]
    }
   ],
   "source": [
    "e=np.array([(4,7,0),(2,4,7),(1,5,6)])\n",
    "print(d)\n",
    "print(d.ndim)"
   ]
  },
  {
   "cell_type": "code",
   "execution_count": 5,
   "id": "b9da0ca4",
   "metadata": {},
   "outputs": [
    {
     "name": "stdout",
     "output_type": "stream",
     "text": [
      "[[4 7 0]\n",
      " [2 4 7]]\n",
      "2\n"
     ]
    }
   ],
   "source": [
    "d=np.array([(4,7,0),(2,4,7)])\n",
    "print(d)\n",
    "print(d.ndim)"
   ]
  },
  {
   "cell_type": "code",
   "execution_count": 6,
   "id": "6335e2f5",
   "metadata": {},
   "outputs": [
    {
     "name": "stdout",
     "output_type": "stream",
     "text": [
      "4\n"
     ]
    }
   ],
   "source": [
    "print(d.itemsize)"
   ]
  },
  {
   "cell_type": "code",
   "execution_count": 7,
   "id": "3b32f3a0",
   "metadata": {},
   "outputs": [
    {
     "name": "stdout",
     "output_type": "stream",
     "text": [
      "int32\n"
     ]
    }
   ],
   "source": [
    "print(d.dtype)"
   ]
  },
  {
   "cell_type": "code",
   "execution_count": 8,
   "id": "281cb15a",
   "metadata": {},
   "outputs": [
    {
     "name": "stdout",
     "output_type": "stream",
     "text": [
      "[[4 7 0]\n",
      " [2 4 7]]\n",
      "2\n"
     ]
    }
   ],
   "source": [
    "d1=np.array([(4,7,0),(2,4,7),(1,5,6)])\n",
    "print(d)\n",
    "print(d.ndim)"
   ]
  },
  {
   "cell_type": "code",
   "execution_count": 9,
   "id": "dab7152c",
   "metadata": {},
   "outputs": [
    {
     "name": "stdout",
     "output_type": "stream",
     "text": [
      "6\n",
      "9\n"
     ]
    },
    {
     "data": {
      "text/plain": [
       "36"
      ]
     },
     "execution_count": 9,
     "metadata": {},
     "output_type": "execute_result"
    }
   ],
   "source": [
    "#\n",
    "print(d.size)\n",
    "print(e.size)\n",
    "e.nbytes"
   ]
  },
  {
   "cell_type": "code",
   "execution_count": 10,
   "id": "c6c29c62",
   "metadata": {},
   "outputs": [
    {
     "name": "stdout",
     "output_type": "stream",
     "text": [
      "(2, 6)\n",
      "[[ 5  6  7  8  9 10]\n",
      " [11 12 13 14 15 16]]\n"
     ]
    }
   ],
   "source": [
    "g=np.array([(5,6,7,8,9,10),(11,12,13,14,15,16)])\n",
    "print(g.shape)\n",
    "print(g)"
   ]
  },
  {
   "cell_type": "code",
   "execution_count": 11,
   "id": "c3f16098",
   "metadata": {},
   "outputs": [
    {
     "name": "stdout",
     "output_type": "stream",
     "text": [
      "[[ 5  6]\n",
      " [ 7  8]\n",
      " [ 9 10]\n",
      " [11 12]\n",
      " [13 14]\n",
      " [15 16]]\n"
     ]
    }
   ],
   "source": [
    "g=np.array([(5,6,7,8,9,10),(11,12,13,14,15,16)])\n",
    "gp=g.reshape(6,2)\n",
    "print(gp)"
   ]
  },
  {
   "cell_type": "code",
   "execution_count": 12,
   "id": "d2b325db",
   "metadata": {},
   "outputs": [
    {
     "name": "stdout",
     "output_type": "stream",
     "text": [
      "[[ 5  6  7  8]\n",
      " [ 9 10 11 12]]\n",
      "8\n",
      "[5 6 7 8]\n",
      "[ 8 12]\n"
     ]
    }
   ],
   "source": [
    "gp5=np.array([(5,6,7,8),(9,10,11,12)])\n",
    "print(gp5)\n",
    "\n",
    "print(gp5[0,3])\n",
    "\n",
    "print(gp5[0,:])\n",
    "\n",
    "print(gp5[0:,3])\n"
   ]
  },
  {
   "cell_type": "code",
   "execution_count": 13,
   "id": "f186ee82",
   "metadata": {},
   "outputs": [
    {
     "name": "stdout",
     "output_type": "stream",
     "text": [
      "[[ 5  6  7  8]\n",
      " [ 9 10 11 12]\n",
      " [ 1  2  3  4]]\n",
      "[ 6 10  2]\n"
     ]
    }
   ],
   "source": [
    "gp6=np.array([(5,6,7,8),(9,10,11,12),(1,2,3,4)])\n",
    "print(gp6)\n",
    "\n",
    "print(gp6[0:3,1])"
   ]
  },
  {
   "cell_type": "code",
   "execution_count": 14,
   "id": "8264f9ae",
   "metadata": {},
   "outputs": [
    {
     "name": "stdout",
     "output_type": "stream",
     "text": [
      "[1.         1.66666667 2.33333333 3.        ]\n"
     ]
    }
   ],
   "source": [
    "h=np.linspace(1,3,4)\n",
    "print(h)"
   ]
  },
  {
   "cell_type": "code",
   "execution_count": 15,
   "id": "a8c8f2cd",
   "metadata": {},
   "outputs": [
    {
     "name": "stdout",
     "output_type": "stream",
     "text": [
      "[ 1.          1.64285714  2.28571429  2.92857143  3.57142857  4.21428571\n",
      "  4.85714286  5.5         6.14285714  6.78571429  7.42857143  8.07142857\n",
      "  8.71428571  9.35714286 10.        ]\n"
     ]
    }
   ],
   "source": [
    "hp=np.linspace(1,10,15)\n",
    "print(hp)"
   ]
  },
  {
   "cell_type": "code",
   "execution_count": 16,
   "id": "f1eef11c",
   "metadata": {},
   "outputs": [
    {
     "name": "stdout",
     "output_type": "stream",
     "text": [
      "9\n"
     ]
    }
   ],
   "source": [
    "m9=np.array([1,9,6])\n",
    "print(m9.max())"
   ]
  },
  {
   "cell_type": "code",
   "execution_count": 17,
   "id": "f5008c16",
   "metadata": {},
   "outputs": [
    {
     "name": "stdout",
     "output_type": "stream",
     "text": [
      "1\n"
     ]
    }
   ],
   "source": [
    "m9=np.array([1,9,6])\n",
    "print(m9.min())"
   ]
  },
  {
   "cell_type": "code",
   "execution_count": 18,
   "id": "e8ff3b98",
   "metadata": {},
   "outputs": [
    {
     "name": "stdout",
     "output_type": "stream",
     "text": [
      "16\n"
     ]
    }
   ],
   "source": [
    "m9=np.array([1,9,6])\n",
    "print(m9.sum())"
   ]
  },
  {
   "cell_type": "code",
   "execution_count": 19,
   "id": "79e98ae5",
   "metadata": {},
   "outputs": [
    {
     "name": "stdout",
     "output_type": "stream",
     "text": [
      "[[4 5 6 7]\n",
      " [1 2 7 8]]\n",
      "[ 5  7 13 15]\n",
      "[22 18]\n"
     ]
    }
   ],
   "source": [
    "gp6=np.array([(4,5,6,7),(1,2,7,8)])\n",
    "print(gp6)\n",
    "print(gp6.sum(axis=0))\n",
    "print(gp6.sum(axis=1))\n"
   ]
  },
  {
   "cell_type": "code",
   "execution_count": 20,
   "id": "b40eebd7",
   "metadata": {},
   "outputs": [
    {
     "name": "stdout",
     "output_type": "stream",
     "text": [
      "[[2.         2.23606798 2.44948974 2.64575131]\n",
      " [1.         1.41421356 2.64575131 2.82842712]]\n"
     ]
    }
   ],
   "source": [
    "gp6=np.array([(4,5,6,7),(1,2,7,8)])\n",
    "print(np.sqrt(gp6))"
   ]
  },
  {
   "cell_type": "code",
   "execution_count": 21,
   "id": "a5342704",
   "metadata": {},
   "outputs": [
    {
     "name": "stdout",
     "output_type": "stream",
     "text": [
      "[[1. 1. 1. 1.]\n",
      " [1. 1. 1. 1.]]\n"
     ]
    }
   ],
   "source": [
    "gp6=np.array([(4,5,6,7),(1,2,7,8)])\n",
    "gp7=np.array([(4,5,6,7),(1,2,7,8)])\n",
    "print(gp6/gp7)"
   ]
  },
  {
   "cell_type": "code",
   "execution_count": 22,
   "id": "9272023b",
   "metadata": {},
   "outputs": [
    {
     "name": "stdout",
     "output_type": "stream",
     "text": [
      "[[4 5 6 7]\n",
      " [1 2 7 8]\n",
      " [4 5 6 7]\n",
      " [1 2 7 8]]\n"
     ]
    }
   ],
   "source": [
    "print(np.vstack((gp6,gp7)))"
   ]
  },
  {
   "cell_type": "code",
   "execution_count": 23,
   "id": "b95b743f",
   "metadata": {},
   "outputs": [
    {
     "name": "stdout",
     "output_type": "stream",
     "text": [
      "[[4 5 6 7 4 5 6 7]\n",
      " [1 2 7 8 1 2 7 8]]\n"
     ]
    }
   ],
   "source": [
    "print(np.hstack((gp6,gp7)))"
   ]
  },
  {
   "cell_type": "code",
   "execution_count": 24,
   "id": "d80f155d",
   "metadata": {},
   "outputs": [
    {
     "name": "stdout",
     "output_type": "stream",
     "text": [
      "[4 5 6 7 1 2 7 8]\n"
     ]
    }
   ],
   "source": [
    "print(gp7.ravel())"
   ]
  },
  {
   "cell_type": "code",
   "execution_count": 40,
   "id": "e76e67d6",
   "metadata": {},
   "outputs": [
    {
     "data": {
      "text/plain": [
       "<function matplotlib.pyplot.show(close=None, block=None)>"
      ]
     },
     "execution_count": 40,
     "metadata": {},
     "output_type": "execute_result"
    },
    {
     "data": {
      "image/png": "[encoded data removed]",
      "text/plain": [
       "<Figure size 432x288 with 1 Axes>"
      ]
     },
     "metadata": {
      "needs_background": "light"
     },
     "output_type": "display_data"
    }
   ],
   "source": [
    "import matplotlib.pyplot as plt\n",
    "\n",
    "x=np.arange(0,3*np.pi,0.1)\n",
    "y=np.tan(x)\n",
    "plt.plot(x,y)\n",
    "plt.show"
   ]
  },
  {
   "cell_type": "code",
   "execution_count": null,
   "id": "87d87d47",
   "metadata": {},
   "outputs": [],
   "source": []
  }
 ],
 "metadata": {
  "kernelspec": {
   "display_name": "Python 3 (ipykernel)",
   "language": "python",
   "name": "python3"
  },
  "language_info": {
   "codemirror_mode": {
    "name": "ipython",
    "version": 3
   },
   "file_extension": ".py",
   "mimetype": "text/x-python",
   "name": "python",
   "nbconvert_exporter": "python",
   "pygments_lexer": "ipython3",
   "version": "3.9.12"
  }
 },
 "nbformat": 4,
 "nbformat_minor": 5
}
